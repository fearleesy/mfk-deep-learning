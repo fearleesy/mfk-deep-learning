{
  "cells": [
    {
      "cell_type": "markdown",
      "metadata": {
        "id": "FgzQ5bscUnsm"
      },
      "source": [
        "# Домашнее задание №4\n",
        "\n",
        "##### Автор: [Татьяна Гайнцева](https://www.linkedin.com/in/tgaintseva/), @atmyre"
      ]
    },
    {
      "cell_type": "code",
      "execution_count": 1,
      "metadata": {
        "id": "dlo1UHiNUnsp"
      },
      "outputs": [],
      "source": [
        "import numpy as np\n",
        "\n",
        "import torch\n",
        "from torch import nn\n",
        "from torch.nn import functional as F\n",
        "\n",
        "import torchvision\n",
        "from torchvision import datasets, transforms\n",
        "\n",
        "from matplotlib import pyplot as plt\n",
        "from IPython.display import clear_output"
      ]
    },
    {
      "cell_type": "markdown",
      "source": [
        "Это домашнее задание состоит из двух частей. В первой части вам нужно реализовать правильную архитектуру сверточной нейросети. Во второй части — подобрать хорошую архитектуру и обучить ее на датасете CIFAR так, чтобы результаты метрики accuracy на тестовой части CIFAR были больше 60%"
      ],
      "metadata": {
        "id": "vdRDK1t0Wgxy"
      }
    },
    {
      "cell_type": "markdown",
      "source": [
        "## Задача №1:\n",
        "В этом задании вам нужно заполнить пропуски в ячейке ниже, чтобы получилась сверточная нейросеть с заданными параметрами."
      ],
      "metadata": {
        "id": "GmVeuJosbxFD"
      }
    },
    {
      "cell_type": "markdown",
      "source": [
        "Архитектура сети:\n",
        "**conv1 -> maxpool1 -> conv2 -> maxpool2 -> flatten -> fc1 -> fc2**\n",
        "\n",
        "- conv1: 3 фильтра размера (5, 5);\n",
        "- maxpool1: ядро размера 2;\n",
        "- conv2: 5 фильтров размера (3, 3);\n",
        "- maxpool2: ядро размера 2;\n",
        "- fc1: 100 нейронов на выходе;\n",
        "- fc2: 10 нейронов на выходе.\n",
        "\n",
        "После сверточных слоев и первого полносвязного слоя нужно применить функцию активации ReLU. **Важно:** для успешной сдачи задания функция активации должна быть применена с помощью F.ReLU (не с помощью nn.ReLU).\n",
        "\n",
        "**Нейросеть должна работать с изображениями размера 32х32. Никакие дополнительные параметры слоев, кроме указанных выше, задавать не нужно**."
      ],
      "metadata": {
        "id": "QwGlvTT-b5tW"
      }
    },
    {
      "cell_type": "code",
      "source": [
        "class ConvNet(nn.Module):\n",
        "    def __init__(self):\n",
        "        super().__init__()\n",
        "\n",
        "        # ВАШ КОД ЗДЕСЬ\n",
        "        # определите слои сети\n",
        "\n",
        "        self.conv1 = nn.Conv2d(3, 3, (5, 5))\n",
        "        self.pool1 = nn.MaxPool2d((2, 2))\n",
        "        self.conv2 = nn.Conv2d(3, 5, (3, 3))\n",
        "        self.pool2 = nn.MaxPool2d((2, 2))\n",
        "\n",
        "        self.flatten = nn.Flatten()\n",
        "\n",
        "        self.fc1 = nn.Linear(180, 100)\n",
        "        self.fc2 = nn.Linear(100, 10)\n",
        "\n",
        "\n",
        "\n",
        "    def forward(self, x):\n",
        "        # размерность х ~ [64, 3, 32, 32]\n",
        "\n",
        "        # ВАШ КОД ЗДЕСЬ\n",
        "        # реализуйте forward pass сети\n",
        "\n",
        "        x = self.pool1(F.relu(self.conv1(x)))\n",
        "        x = self.pool2(F.relu(self.conv2(x)))\n",
        "        x = self.flatten(x)\n",
        "        x = F.relu(self.fc1(x))\n",
        "        x = self.fc2(x)\n",
        "\n",
        "        return x"
      ],
      "metadata": {
        "id": "zEQy7-AEb9--"
      },
      "execution_count": 144,
      "outputs": []
    },
    {
      "cell_type": "markdown",
      "source": [
        "### Проверка"
      ],
      "metadata": {
        "id": "0nouGfm_gDFD"
      }
    },
    {
      "cell_type": "markdown",
      "source": [
        "Ячейки ниже помогут проверить, что модель написана и работает правильно."
      ],
      "metadata": {
        "id": "TMWATEWKgFgp"
      }
    },
    {
      "cell_type": "code",
      "source": [
        "# Эта ячейка не должна выдавать ошибку.\n",
        "# Если при исполнении ячейки возникает ошибка, то в вашей реализации нейросети есть баги.\n",
        "img = torch.Tensor(np.random.random((32, 3, 32, 32)))\n",
        "model = ConvNet()\n",
        "out = model(img)"
      ],
      "metadata": {
        "id": "xVbCt6AffvNp"
      },
      "execution_count": 145,
      "outputs": []
    },
    {
      "cell_type": "markdown",
      "source": [
        "Ячейка ниже проверяет, что устройство сети верное."
      ],
      "metadata": {
        "id": "HmVRmDEfgdoH"
      }
    },
    {
      "cell_type": "code",
      "source": [
        "# conv1\n",
        "assert model.conv1.kernel_size == (5, 5), \"неверный размер ядра у conv1\"\n",
        "assert model.conv1.in_channels == 3, \"неверный размер in_channels у conv1\"\n",
        "assert model.conv1.out_channels == 3, \"неверный размер out_channels у conv1\"\n",
        "\n",
        "# pool1\n",
        "assert model.pool1.kernel_size == (2, 2), \"неверный размер ядра у pool1\"\n",
        "\n",
        "# conv2\n",
        "assert model.conv2.kernel_size == (3, 3), \"неверный размер ядра у conv2\"\n",
        "assert model.conv2.in_channels == 3, \"неверный размер in_channels у conv2\"\n",
        "assert model.conv2.out_channels == 5, \"неверный размер out_channels у conv2\"\n",
        "\n",
        "# pool2\n",
        "assert model.pool1.kernel_size == (2, 2), \"неверный размер ядра у pool2\"\n",
        "\n",
        "# fc1\n",
        "assert model.fc1.out_features == 100, \"неверный размер out_features у fc1\"\n",
        "# fc2\n",
        "assert model.fc2.out_features == 10, \"неверный размер out_features у fc2\""
      ],
      "metadata": {
        "id": "iZ_t7mCDesVU"
      },
      "execution_count": 146,
      "outputs": []
    },
    {
      "cell_type": "markdown",
      "source": [
        "### Сдача задания"
      ],
      "metadata": {
        "id": "dtKvuJRHqM_d"
      }
    },
    {
      "cell_type": "markdown",
      "source": [
        "Если обе ячейки отработали без ошибок, можно сдавать задание в первую задачу на Я.Контесте.\n",
        "Для этого нужно скопировать класс ConvNet в нужное место в `submission_template04.py` и отправить `submission_template04.py` в Я.Контест."
      ],
      "metadata": {
        "id": "QybQ4rtQgppH"
      }
    },
    {
      "cell_type": "markdown",
      "metadata": {
        "id": "obC9bnWsUnsr"
      },
      "source": [
        "## Задача №2:\n",
        "Вернемся к задаче классификации картинок [CIFAR](https://www.cs.toronto.edu/~kriz/cifar.html).\n",
        "\n",
        "__Ваша основная задача: реализовать весь пайплан обучения модели и добиться хорошего значения метрики accuracy на тестовой выборке.__\n",
        "Баллы за задание:\n",
        "- **0**, если accuracy на тестовой выборке <0.5;\n",
        "- **0.5**, если accuracy на тестовой выборке >0.5 и <0.6;\n",
        "- **1**, если accuracy на тестовой выборке >0.6;\n",
        "\n",
        "Код для обучения модели в данном задании полностью реализован. Вам нужно лишь написать код класса нейросети и поэкспериментировать с параметрами так, чтобы получить хорошее качество. В качестве основы архитектуры сети можно взять сеть из задачи №1."
      ]
    },
    {
      "cell_type": "markdown",
      "source": [
        "**! Перед выполнением этого задания рекомендуем включить GPU в настройках колаба.** Это поможет обучать нейросеть быстрее.\n",
        "\n",
        "Чтобы включить GPU, перейдите Edit->Notebook settings и выберите Hardware accelerator=GPU. Нажмите save."
      ],
      "metadata": {
        "id": "izGM3kjrhbCk"
      }
    },
    {
      "cell_type": "code",
      "source": [
        "import numpy as np\n",
        "\n",
        "import torch\n",
        "from torch import nn\n",
        "from torch.nn import functional as F\n",
        "\n",
        "import torchvision\n",
        "from torchvision import datasets, transforms\n",
        "\n",
        "from matplotlib import pyplot as plt\n",
        "from IPython.display import clear_output"
      ],
      "metadata": {
        "id": "ZUgd4OiDh4EP"
      },
      "execution_count": 15,
      "outputs": []
    },
    {
      "cell_type": "markdown",
      "source": [
        "### Загрузка данных"
      ],
      "metadata": {
        "id": "i5VkRn8eYCL3"
      }
    },
    {
      "cell_type": "markdown",
      "source": [
        "Код загрузки данных тот же, что был на занятии. Менять ничего не нужно."
      ],
      "metadata": {
        "id": "w5-HED1XYV96"
      }
    },
    {
      "cell_type": "code",
      "execution_count": 16,
      "metadata": {
        "id": "-31e0aCCUnss",
        "colab": {
          "base_uri": "https://localhost:8080/"
        },
        "outputId": "d158cda5-9750-481a-9252-e3023af92aee"
      },
      "outputs": [
        {
          "output_type": "stream",
          "name": "stderr",
          "text": [
            "100%|██████████| 170M/170M [00:04<00:00, 35.3MB/s]\n"
          ]
        }
      ],
      "source": [
        "# загружаем датасет из torchvision\n",
        "train_data = datasets.CIFAR10(root=\"./cifar10_data\", train=True, download=True, transform=transforms.ToTensor())\n",
        "test_data = datasets.CIFAR10(root=\"./cifar10_data\", train=False, download=True, transform=transforms.ToTensor())\n",
        "\n",
        "# делим тренировочную часть на train и val\n",
        "\n",
        "# в тренировочную выборку отнесем 80% всех картинок\n",
        "train_size = int(len(train_data) * 0.8)\n",
        "# в валидационную — остальные 20%\n",
        "val_size = len(train_data) - train_size\n",
        "\n",
        "train_data, val_data = torch.utils.data.random_split(train_data, [train_size, val_size])\n",
        "\n",
        "# заводим даталоадеры, которые будут генерировать батчи\n",
        "train_loader = torch.utils.data.DataLoader(train_data, batch_size=64, shuffle=True)\n",
        "val_loader = torch.utils.data.DataLoader(val_data, batch_size=64, shuffle=False)\n",
        "test_loader = torch.utils.data.DataLoader(test_data, batch_size=64, shuffle=False)"
      ]
    },
    {
      "cell_type": "markdown",
      "source": [
        "Посмотрим на несколько картинок из датасета:"
      ],
      "metadata": {
        "id": "3xJCM2lZYjtR"
      }
    },
    {
      "cell_type": "code",
      "source": [
        "# функция отрисовки картинок\n",
        "def show_images(images, labels):\n",
        "    f, axes= plt.subplots(1, 10, figsize=(30,5))\n",
        "\n",
        "    for i, axis in enumerate(axes):\n",
        "        # переводим картинку из тензора в numpy\n",
        "        img = images[i].numpy()\n",
        "        # переводим картинку в размерность (длина, ширина, цветовые каналы)\n",
        "        img = np.transpose(img, (1, 2, 0))\n",
        "\n",
        "        axes[i].imshow(img)\n",
        "        axes[i].set_title(labels[i].numpy())\n",
        "\n",
        "    plt.show()\n",
        "\n",
        "# получаем батч картинок\n",
        "for batch in train_loader:\n",
        "    images, labels = batch\n",
        "    break\n",
        "\n",
        "show_images(images, labels)"
      ],
      "metadata": {
        "id": "R7ZBNxsLYvMP",
        "colab": {
          "base_uri": "https://localhost:8080/",
          "height": 202
        },
        "outputId": "405569d3-cf87-45c2-bb16-32c3b90248a8"
      },
      "execution_count": 17,
      "outputs": [
        {
          "output_type": "display_data",
          "data": {
            "text/plain": [
              "<Figure size 3000x500 with 10 Axes>"
            ],
            "image/png": "[encoded data removed]"
          },
          "metadata": {}
        }
      ]
    },
    {
      "cell_type": "markdown",
      "source": [
        "### Построение модели"
      ],
      "metadata": {
        "id": "EAbF9VCHifUg"
      }
    },
    {
      "cell_type": "markdown",
      "metadata": {
        "id": "ZN-AYLsyUnsu"
      },
      "source": [
        "Ниже — ячейка для построения модели. Не стоит сразу делать большую и сложную модель с большим количеством слоев: такая сеть будет обучаться очень долго и, скорее всего, переобучится.\n",
        "\n",
        "Ваша основная задача – обучить модель и получить качество на отложенной (тестовой выборке) не менее 60% accuracy.\n",
        "\n",
        "__Внимание: ваша модель должна быть представлена именно переменной `model`.__"
      ]
    },
    {
      "cell_type": "markdown",
      "source": [
        "Идеи, что можно попробовать, чтобы улучшить результат сети:\n",
        "\n",
        "- попробовать разное количество сверточных и полносвязных слоев;\n",
        "- попробовать разное количество фильтров в сверточных слоях;\n",
        "- попробовать разное количество нейронов в скрытых полносвязных слоях;\n",
        "- попробовать добавить BatchNorm, как после полносвязных, так и после сверточных слоев. Обратите внимание, что для сверточных слоев используется [nn.BatchNorm2d](https://pytorch.org/docs/stable/generated/torch.nn.BatchNorm2d.html). Аргумент num_features равен количеству фильтров (out_channels) сверточного слоя;\n",
        "- попробовать добавить/убрать max_pooling;\n",
        "- поменять learning_rate;\n",
        "- обучать сеть большее количество эпох.\n",
        "\n",
        "Если ваша модель переобучается (метрика на валидации нацинает становиться хуже), попробуйте уменьшить количество параметров модели. Если модель не переобучается, но показывает плохой результат, попробуйте увеличить количество параметров модели."
      ],
      "metadata": {
        "id": "QFaM1UeWaE4K"
      }
    },
    {
      "cell_type": "code",
      "execution_count": 133,
      "metadata": {
        "id": "3UyozaPnUnsu"
      },
      "outputs": [],
      "source": [
        "class ConvNet(nn.Module):\n",
        "    def __init__(self):\n",
        "        super().__init__()\n",
        "\n",
        "        # ВАШ КОД ЗДЕСЬ\n",
        "        # определите слои сети\n",
        "\n",
        "        self.conv1 = nn.Conv2d(3, 5, (3, 3))\n",
        "        self.pool1 = nn.MaxPool2d((2, 2))\n",
        "        self.bn1 = nn.BatchNorm2d(5)\n",
        "\n",
        "        self.conv2 = nn.Conv2d(5, 10, (3, 3))\n",
        "        self.pool2 = nn.MaxPool2d(2)\n",
        "        self.bn2 = nn.BatchNorm2d(10)\n",
        "\n",
        "        self.flatten = nn.Flatten()\n",
        "\n",
        "        self.fc1 = nn.Linear(360, 100)\n",
        "        self.bn4 = nn.BatchNorm1d(100)\n",
        "        self.fc2 = nn.Linear(100, 50)\n",
        "        self.bn5 = nn.BatchNorm1d(50)\n",
        "        self.fc3 = nn.Linear(50, 10)\n",
        "\n",
        "\n",
        "\n",
        "    def forward(self, x):\n",
        "        # размерность х ~ [64, 3, 32, 32]\n",
        "\n",
        "        # ВАШ КОД ЗДЕСЬ\n",
        "        # реализуйте forward pass сети\n",
        "\n",
        "        x = self.bn1(F.relu(self.pool1(self.conv1(x))))\n",
        "        x = self.bn2(F.relu(self.pool2(self.conv2(x))))\n",
        "\n",
        "        x = self.flatten(x)\n",
        "\n",
        "        x = self.bn4(F.relu(self.fc1(x)))\n",
        "        x = self.bn5(F.relu(self.fc2(x)))\n",
        "        x = self.fc3(x)\n",
        "\n",
        "        return x"
      ]
    },
    {
      "cell_type": "code",
      "source": [
        "model = ConvNet()"
      ],
      "metadata": {
        "id": "MFpILkiXhEz-"
      },
      "execution_count": 134,
      "outputs": []
    },
    {
      "cell_type": "markdown",
      "source": [
        "Ячейка ниже проверяет, доступен ли GPU и если да, то переносит нейросеть на GPU."
      ],
      "metadata": {
        "id": "1reimxeCh9BA"
      }
    },
    {
      "cell_type": "code",
      "source": [
        "device = torch.device(\"cuda\" if torch.cuda.is_available() else \"cpu\")\n",
        "model = model.to(device)"
      ],
      "metadata": {
        "id": "keaqEK3ug9rd"
      },
      "execution_count": 135,
      "outputs": []
    },
    {
      "cell_type": "markdown",
      "source": [
        "### Обучение модели"
      ],
      "metadata": {
        "id": "iKghv45uiEqo"
      }
    },
    {
      "cell_type": "markdown",
      "metadata": {
        "id": "b2onmgyzUntQ"
      },
      "source": [
        "Функция обучения сети (ее менять не нужно).\n",
        "\n",
        "Функция выводит текущие значения лосса и accuracy на train выборке каждые 50 итераций обучения. Также после каждой эпохи считается и выводится лосс и accuracy на val выборке. По этим значениям можно понимать, как хорошо обучается ваша модель."
      ]
    },
    {
      "cell_type": "code",
      "execution_count": 136,
      "metadata": {
        "id": "jYsRSxVjUntR"
      },
      "outputs": [],
      "source": [
        "def evaluate(model, dataloader, loss_fn):\n",
        "\n",
        "    losses = []\n",
        "\n",
        "    num_correct = 0\n",
        "    num_elements = 0\n",
        "\n",
        "    for i, batch in enumerate(dataloader):\n",
        "\n",
        "        # так получаем текущий батч\n",
        "        X_batch, y_batch = batch\n",
        "        num_elements += len(y_batch)\n",
        "\n",
        "        with torch.no_grad():\n",
        "            logits = model(X_batch.to(device))\n",
        "\n",
        "            loss = loss_fn(logits, y_batch.to(device))\n",
        "            losses.append(loss.item())\n",
        "\n",
        "            y_pred = torch.argmax(logits, dim=1)\n",
        "\n",
        "            num_correct += torch.sum(y_pred.cpu() == y_batch)\n",
        "\n",
        "    accuracy = num_correct / num_elements\n",
        "\n",
        "    return accuracy.numpy(), np.mean(losses)\n",
        "\n",
        "def train(model, loss_fn, optimizer, n_epoch=3):\n",
        "\n",
        "    # цикл обучения сети\n",
        "    for epoch in range(n_epoch):\n",
        "\n",
        "        print(\"Epoch:\", epoch+1)\n",
        "\n",
        "        model.train(True)\n",
        "\n",
        "        running_losses = []\n",
        "        running_accuracies = []\n",
        "        for i, batch in enumerate(train_loader):\n",
        "            # так получаем текущий батч\n",
        "            X_batch, y_batch = batch\n",
        "\n",
        "            # forward pass (получение ответов на батч картинок)\n",
        "            logits = model(X_batch.to(device))\n",
        "\n",
        "            # вычисление лосса от выданных сетью ответов и правильных ответов на батч\n",
        "            loss = loss_fn(logits, y_batch.to(device))\n",
        "            running_losses.append(loss.item())\n",
        "\n",
        "            loss.backward() # backpropagation (вычисление градиентов)\n",
        "            optimizer.step() # обновление весов сети\n",
        "            optimizer.zero_grad() # обнуляем веса\n",
        "\n",
        "            # вычислим accuracy на текущем train батче\n",
        "            model_answers = torch.argmax(logits, dim=1)\n",
        "            train_accuracy = torch.sum(y_batch == model_answers.cpu()) / len(y_batch)\n",
        "            running_accuracies.append(train_accuracy)\n",
        "\n",
        "            # Логирование результатов\n",
        "            if (i+1) % 100 == 0:\n",
        "                print(\"Средние train лосс и accuracy на последних 50 итерациях:\",\n",
        "                      np.mean(running_losses), np.mean(running_accuracies), end='\\n')\n",
        "\n",
        "        # после каждой эпохи получаем метрику качества на валидационной выборке\n",
        "        model.train(False)\n",
        "\n",
        "        val_accuracy, val_loss = evaluate(model, val_loader, loss_fn=loss_fn)\n",
        "        print(\"Эпоха {}/{}: val лосс и accuracy:\".format(epoch+1, n_epoch,),\n",
        "                      val_loss, val_accuracy, end='\\n')\n",
        "\n",
        "    return model"
      ]
    },
    {
      "cell_type": "markdown",
      "source": [
        "Запускаем обучение."
      ],
      "metadata": {
        "id": "qEBr1qTOjfo3"
      }
    },
    {
      "cell_type": "code",
      "source": [
        "# снова объявим модель\n",
        "model = ConvNet()\n",
        "device = torch.device(\"cuda\" if torch.cuda.is_available() else \"cpu\")\n",
        "model = model.to(device)\n",
        "\n",
        "# выбираем функцию потерь\n",
        "loss_fn = torch.nn.CrossEntropyLoss()\n",
        "\n",
        "# выбираем алгоритм оптимизации и learning_rate.\n",
        "# вы можете экспериментировать с разными значениями learning_rate\n",
        "learning_rate = 1e-3\n",
        "optimizer = torch.optim.Adam(model.parameters(), lr=learning_rate)"
      ],
      "metadata": {
        "id": "KYqzqj02jZly"
      },
      "execution_count": 137,
      "outputs": []
    },
    {
      "cell_type": "code",
      "source": [
        "# запустим обучение модели\n",
        "# параметр n_epoch можно варьировать\n",
        "model = train(model, loss_fn, optimizer, n_epoch=7)"
      ],
      "metadata": {
        "id": "QMgy5EGsnEZt",
        "colab": {
          "base_uri": "https://localhost:8080/"
        },
        "outputId": "1cedda95-651b-4a76-eca7-3defa3af6327"
      },
      "execution_count": 139,
      "outputs": [
        {
          "output_type": "stream",
          "name": "stdout",
          "text": [
            "Epoch: 1\n",
            "Средние train лосс и accuracy на последних 50 итерациях: 1.375412987470627 0.5104687\n",
            "Средние train лосс и accuracy на последних 50 итерациях: 1.3648525494337083 0.5107812\n",
            "Средние train лосс и accuracy на последних 50 итерациях: 1.350322794119517 0.5153125\n",
            "Средние train лосс и accuracy на последних 50 итерациях: 1.3405505689978598 0.52128905\n",
            "Средние train лосс и accuracy на последних 50 итерациях: 1.329764262676239 0.52571875\n",
            "Средние train лосс и accuracy на последних 50 итерациях: 1.320005635023117 0.52898437\n",
            "Эпоха 1/7: val лосс и accuracy: 1.2518152142785917 0.5484\n",
            "Epoch: 2\n",
            "Средние train лосс и accuracy на последних 50 итерациях: 1.1879876816272736 0.5779688\n",
            "Средние train лосс и accuracy на последних 50 итерациях: 1.1776146340370177 0.5809375\n",
            "Средние train лосс и accuracy на последних 50 итерациях: 1.1727462526162464 0.5836458\n",
            "Средние train лосс и accuracy на последних 50 итерациях: 1.1714968428015708 0.58382815\n",
            "Средние train лосс и accuracy на последних 50 итерациях: 1.1682496263980866 0.5856562\n",
            "Средние train лосс и accuracy на последних 50 итерациях: 1.1689828750491142 0.58591145\n",
            "Эпоха 2/7: val лосс и accuracy: 1.20190066668638 0.573\n",
            "Epoch: 3\n",
            "Средние train лосс и accuracy на последних 50 итерациях: 1.050575134754181 0.62875\n",
            "Средние train лосс и accuracy на последних 50 итерациях: 1.0612194406986237 0.62640625\n",
            "Средние train лосс и accuracy на последних 50 итерациях: 1.0597734187046688 0.62859374\n",
            "Средние train лосс и accuracy на последних 50 итерациях: 1.0632454939186573 0.6261328\n",
            "Средние train лосс и accuracy на последних 50 итерациях: 1.0732358995676041 0.6239375\n",
            "Средние train лосс и accuracy на последних 50 итерациях: 1.0735021085540453 0.6233854\n",
            "Эпоха 3/7: val лосс и accuracy: 1.2306368700258292 0.5686\n",
            "Epoch: 4\n",
            "Средние train лосс и accuracy на последних 50 итерациях: 0.9875816684961319 0.6539062\n",
            "Средние train лосс и accuracy на последних 50 итерациях: 0.9875297459959984 0.65484375\n",
            "Средние train лосс и accuracy на последних 50 итерациях: 0.9924807296196619 0.6514583\n",
            "Средние train лосс и accuracy на последних 50 итерациях: 1.0019971604645252 0.6499219\n",
            "Средние train лосс и accuracy на последних 50 итерациях: 1.0038208031654359 0.6491563\n",
            "Средние train лосс и accuracy на последних 50 итерациях: 1.0032928040623665 0.6488021\n",
            "Эпоха 4/7: val лосс и accuracy: 1.1400957468208994 0.5964\n",
            "Epoch: 5\n",
            "Средние train лосс и accuracy на последних 50 итерациях: 0.9002122610807419 0.680625\n",
            "Средние train лосс и accuracy на последних 50 итерациях: 0.9119226267933845 0.67414063\n",
            "Средние train лосс и accuracy на последних 50 итерациях: 0.9228542782862981 0.67020833\n",
            "Средние train лосс и accuracy на последних 50 итерациях: 0.9347389155626297 0.66796875\n",
            "Средние train лосс и accuracy на последних 50 итерациях: 0.9427133849859237 0.6660625\n",
            "Средние train лосс и accuracy на последних 50 итерациях: 0.947448180615902 0.66557294\n",
            "Эпоха 5/7: val лосс и accuracy: 1.1361401498697365 0.602\n",
            "Epoch: 6\n",
            "Средние train лосс и accuracy на последних 50 итерациях: 0.8644920748472213 0.69109374\n",
            "Средние train лосс и accuracy на последних 50 итерациях: 0.8748586764931678 0.6911719\n",
            "Средние train лосс и accuracy на последних 50 итерациях: 0.894802324573199 0.68354166\n",
            "Средние train лосс и accuracy на последних 50 итерациях: 0.8929627551138402 0.6838672\n",
            "Средние train лосс и accuracy на последних 50 итерациях: 0.8993742338418961 0.6811563\n",
            "Средние train лосс и accuracy на последних 50 итерациях: 0.9013723078370094 0.6813021\n",
            "Эпоха 6/7: val лосс и accuracy: 1.1289364034962501 0.6026\n",
            "Epoch: 7\n",
            "Средние train лосс и accuracy на последних 50 итерациях: 0.8136978936195374 0.71125\n",
            "Средние train лосс и accuracy на последних 50 итерациях: 0.8244540877640247 0.70625\n",
            "Средние train лосс и accuracy на последних 50 итерациях: 0.8324858482678731 0.7046875\n",
            "Средние train лосс и accuracy на последних 50 итерациях: 0.8454685531556606 0.7020703\n",
            "Средние train лосс и accuracy на последних 50 итерациях: 0.8528423224687576 0.6984375\n",
            "Средние train лосс и accuracy на последних 50 итерациях: 0.8590466699997584 0.69645834\n",
            "Эпоха 7/7: val лосс и accuracy: 1.1790018537241942 0.6018\n"
          ]
        }
      ]
    },
    {
      "cell_type": "markdown",
      "source": [
        "### Получение метрики качества на тестовой выборке"
      ],
      "metadata": {
        "id": "J-0bg_d9mQJc"
      }
    },
    {
      "cell_type": "code",
      "execution_count": 140,
      "metadata": {
        "id": "5fdsfmmGUntS",
        "colab": {
          "base_uri": "https://localhost:8080/"
        },
        "outputId": "f622ec97-e785-4f68-efcc-4865902577e1"
      },
      "outputs": [
        {
          "output_type": "stream",
          "name": "stdout",
          "text": [
            "Accuracy на тесте 0.605\n"
          ]
        }
      ],
      "source": [
        "test_accuracy, _ = evaluate(model, test_loader, loss_fn)\n",
        "print('Accuracy на тесте', test_accuracy)"
      ]
    },
    {
      "cell_type": "markdown",
      "source": [
        "Вы можете экспериментировать с разным устройством архитектуры нейросети и запускать ее обучение и проверять accuracy на тесте с помощью трех ячеек выше. Когда вы получили нужное значение accuracy на тесте, можете сдавать задание на Я.Контест."
      ],
      "metadata": {
        "id": "mTWg3rx7oigY"
      }
    },
    {
      "cell_type": "markdown",
      "metadata": {
        "id": "s1lUTTanUntT"
      },
      "source": [
        "Проверка, что необходимые пороги пройдены:"
      ]
    },
    {
      "cell_type": "code",
      "execution_count": 141,
      "metadata": {
        "id": "h0D82xfkUntT",
        "colab": {
          "base_uri": "https://localhost:8080/"
        },
        "outputId": "fc1eca65-6ac4-49b6-9946-eb8ea6f9a6a9"
      },
      "outputs": [
        {
          "output_type": "stream",
          "name": "stdout",
          "text": [
            "Качество на тесте выше 0.6, 1 балл\n"
          ]
        }
      ],
      "source": [
        "if test_accuracy <= 0.5:\n",
        "    print(\"Качество на тесте ниже 0.5, 0 баллов\")\n",
        "elif test_accuracy < 0.6:\n",
        "    print(\"Качество на тесте между 0.5 и 0.6, 0.5 баллов\")\n",
        "elif test_accuracy >= 0.6:\n",
        "    print(\"Качество на тесте выше 0.6, 1 балл\")"
      ]
    },
    {
      "cell_type": "markdown",
      "metadata": {
        "id": "jaaib09bUntU"
      },
      "source": [
        "### Сдача задания\n",
        "В ячейке ниже реализован код для получения файла с обученной сетью. Запустите эти ячейки. Полученный файл model.pth отправьте в Я.Контест"
      ]
    },
    {
      "cell_type": "code",
      "execution_count": 142,
      "metadata": {
        "id": "gnLPac1NUntV"
      },
      "outputs": [],
      "source": [
        "model.eval()\n",
        "x = torch.randn((1, 3, 32, 32))\n",
        "torch.jit.save(torch.jit.trace(model.cpu(), (x)), \"model.pth\")"
      ]
    },
    {
      "cell_type": "markdown",
      "metadata": {
        "id": "szdg0viDUntW"
      },
      "source": [
        "Теперь у вас во вкладке \"файлы\" лежит файл model.pth. Загрузите этот файл в Я.Контест. И на этом задание завершено. Поздравляем!"
      ]
    }
  ],
  "metadata": {
    "kernelspec": {
      "display_name": "Py3 Research",
      "language": "python",
      "name": "py3_research"
    },
    "language_info": {
      "codemirror_mode": {
        "name": "ipython",
        "version": 3
      },
      "file_extension": ".py",
      "mimetype": "text/x-python",
      "name": "python",
      "nbconvert_exporter": "python",
      "pygments_lexer": "ipython3",
      "version": "3.7.10"
    },
    "colab": {
      "provenance": [],
      "gpuType": "T4"
    },
    "accelerator": "GPU"
  },
  "nbformat": 4,
  "nbformat_minor": 0
}